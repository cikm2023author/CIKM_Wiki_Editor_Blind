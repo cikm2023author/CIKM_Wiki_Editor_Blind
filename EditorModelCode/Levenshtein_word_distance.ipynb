{
 "cells": [
  {
   "cell_type": "code",
   "execution_count": null,
   "metadata": {},
   "outputs": [],
   "source": [
    "import random"
   ]
  },
  {
   "cell_type": "code",
   "execution_count": null,
   "metadata": {},
   "outputs": [],
   "source": [
    "import numpy as np\n",
    "# modified from https://stackoverflow.com/questions/70623867/can-every-solution-of-the-edit-distance-problem-be-shown-on-the-matrix-obtained\n",
    "def get_min_edit(text1, text2):\n",
    "    \n",
    "    word1 = text1.strip().split()\n",
    "    word2 = text2.strip().split()\n",
    "    # we are doing lists of words rather than characters\n",
    "\n",
    "    word1 = ['BEGIN'] + word1     #\n",
    "    word2 = ['BEGIN'] + word2     # add a space before original words\n",
    "\n",
    "    len_w1 = len(word1)     #\n",
    "    len_w2 = len(word2)     # calculate the lengths of new words\n",
    "\n",
    "    old_edit_matrix = np.zeros((len_w2, len_w1), dtype = int)\n",
    "    edit_matrix = []\n",
    "    for i in range(len_w2):\n",
    "        edit_matrix.append([[0, []]] * len_w1)\n",
    "    \n",
    "    # create a matrix with all zeros\n",
    "    \n",
    "    edit_matrix[0][0] = [0, []]\n",
    "    \n",
    "    for col_idx in range(len_w1):\n",
    "        edit_matrix[0][col_idx] = [col_idx, ['DELETE']*col_idx]\n",
    "        \n",
    "    for row_idx in range(len_w2):\n",
    "        edit_matrix[row_idx][0] = [row_idx, ['INSERT']*row_idx]\n",
    "\n",
    "    old_edit_matrix[0, :] = range(len_w1)  \n",
    "    # assign numbers from 0 to len_w1 in the first row of the edit_matrix \n",
    "    old_edit_matrix[:, 0] = range(len_w2)\n",
    "    # assign numbers from 0 to len_w2 in the first column of the edit_matrix \n",
    "\n",
    "    for i in range(1, len_w2):\n",
    "        for j in range(1, len_w1):\n",
    "            #print j\n",
    "\n",
    "            temp1 = edit_matrix[i-1][j][0] + 1\n",
    "            temp2 = edit_matrix[i][j-1][0] + 1\n",
    "            # add 1 to edit_matrix[i-1][j] and edit_matrix[i][j-1]\n",
    "            \n",
    "            path1 = edit_matrix[i-1][j][1] + ['INSERT']\n",
    "            path2 = edit_matrix[i][j-1][1] + ['DELETE']\n",
    "\n",
    "            \n",
    "            temp3 = edit_matrix[i-1][j-1][0]\n",
    "            if word1[j] != word2[i]:\n",
    "                temp3 += 1\n",
    "                action = 'REPLACE'\n",
    "            else:\n",
    "                action = 'SKIP'\n",
    "            path3 = edit_matrix[i-1][j-1][1] + [action]\n",
    "            # if last characters are same don't add 1 to edit_matrix[i-1][j-1].\n",
    "            # no need to replace\n",
    "\n",
    "            edit_count = min(temp1, temp2, temp3)\n",
    "            # find min between three numbers\n",
    "\n",
    "            path_options = []\n",
    "            for temp, path in [(temp1,path1), (temp2,path2), (temp3,path3)]:\n",
    "                if temp == edit_count:\n",
    "                    path_options += [path]\n",
    "\n",
    "            edit_matrix[i][j] = [edit_count, random.choice(path_options)]\n",
    "    \n",
    "    return edit_matrix[-1][-1]\n"
   ]
  },
  {
   "cell_type": "code",
   "execution_count": null,
   "metadata": {},
   "outputs": [],
   "source": []
  },
  {
   "cell_type": "code",
   "execution_count": null,
   "metadata": {},
   "outputs": [],
   "source": [
    "input_csv = 'data/new_pol/ampol_no_edit_string_train.tsv'\n",
    "output_csv = 'data/new_pol/ampol_train.tsv'"
   ]
  },
  {
   "cell_type": "code",
   "execution_count": null,
   "metadata": {},
   "outputs": [],
   "source": [
    "import pandas as pd"
   ]
  },
  {
   "cell_type": "code",
   "execution_count": null,
   "metadata": {},
   "outputs": [],
   "source": [
    "df = pd.read_csv(input_csv, sep='\\t')\n",
    "df = df.fillna('')\n",
    "df = df.set_index('line_id')"
   ]
  },
  {
   "cell_type": "code",
   "execution_count": null,
   "metadata": {
    "scrolled": true
   },
   "outputs": [],
   "source": [
    "import random\n",
    "df['edit_string'] = [\"\"] * len(df.index)\n",
    "count = 0\n",
    "for ridx, row in df.iterrows():\n",
    "    if ((count+1) % 100) == 0:\n",
    "        print(count+1)\n",
    "    count += 1\n",
    "    user = row['user']\n",
    "    article_title = row['article_title']\n",
    "    in_text = row['parent text'].strip()\n",
    "    out_text = row['revision text'].strip()\n",
    "    line_id = ridx\n",
    "    \n",
    "    _, edits = get_min_edit(in_text, out_text)\n",
    "    edit_str = ' '.join(edits)\n",
    "    df['edit_string'].at[line_id] = ' '.join(edits)"
   ]
  },
  {
   "cell_type": "code",
   "execution_count": null,
   "metadata": {},
   "outputs": [],
   "source": [
    "df"
   ]
  },
  {
   "cell_type": "code",
   "execution_count": null,
   "metadata": {},
   "outputs": [],
   "source": [
    "df.to_csv(output_csv, sep='\\t')"
   ]
  }
 ],
 "metadata": {
  "kernelspec": {
   "display_name": "Python 2",
   "language": "python",
   "name": "python2"
  },
  "language_info": {
   "codemirror_mode": {
    "name": "ipython",
    "version": 2
   },
   "file_extension": ".py",
   "mimetype": "text/x-python",
   "name": "python",
   "nbconvert_exporter": "python",
   "pygments_lexer": "ipython2",
   "version": "2.7.15"
  }
 },
 "nbformat": 4,
 "nbformat_minor": 2
}
